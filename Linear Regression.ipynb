{
 "cells": [
  {
   "cell_type": "markdown",
   "metadata": {},
   "source": [
    "### 1-1 Linear Regression with one variable"
   ]
  },
  {
   "cell_type": "code",
   "execution_count": 1,
   "metadata": {
    "collapsed": true
   },
   "outputs": [],
   "source": [
    "from __future__ import division\n",
    "import matplotlib.pyplot as plt\n",
    "from pylab import rcParams\n",
    "import seaborn as sb\n",
    "\n",
    "import pandas as pd\n",
    "import numpy as np\n",
    "import math\n",
    "\n",
    "import sklearn\n",
    "from sklearn.linear_model import LinearRegression\n",
    "from sklearn.metrics import mean_squared_error"
   ]
  },
  {
   "cell_type": "code",
   "execution_count": 2,
   "metadata": {},
   "outputs": [
    {
     "data": {
      "image/png": "[encoded data removed]",
      "text/plain": [
       "<matplotlib.figure.Figure at 0x1a11c14860>"
      ]
     },
     "metadata": {},
     "output_type": "display_data"
    }
   ],
   "source": [
    "data1 = pd.read_csv('ex1data1.csv') #reading data\n",
    "data1.columns = ['population', 'profit']\n",
    "X1 = data1['population']\n",
    "y1 = data1['profit']\n",
    "\n",
    "%matplotlib inline\n",
    "plt.figure(figsize=(10,8))\n",
    "plt.plot(X1, y1, 'k.')\n",
    "\n",
    "plt.xlabel('population of city in 10,000')\n",
    "plt.ylabel('profit of food truck in 10,000')\n",
    "plt.show()"
   ]
  },
  {
   "cell_type": "code",
   "execution_count": 3,
   "metadata": {
    "collapsed": true
   },
   "outputs": [],
   "source": [
    "m = len(y1)"
   ]
  },
  {
   "cell_type": "code",
   "execution_count": 4,
   "metadata": {
    "collapsed": true
   },
   "outputs": [],
   "source": [
    "def cost(w0, w1, m, X, y):  \n",
    "    C = 0\n",
    "    for i in range(m):\n",
    "        C = C + (h(X[i], w0, w1) - y[i] )**2\n",
    "        C_new = C/(2.0*m)\n",
    "    return C_new"
   ]
  },
  {
   "cell_type": "code",
   "execution_count": 5,
   "metadata": {
    "collapsed": true
   },
   "outputs": [],
   "source": [
    "def h(X, w0, w1) :  \n",
    "    h = w0 + w1*X\n",
    "    return h\n",
    "\n",
    "def grad_cost(w0, w1,X,y,m) :  \n",
    "    DiffC_w0 = 0\n",
    "    DiffC_w1 = 0\n",
    "    \n",
    "    for i in range(m):\n",
    "        \n",
    "        DiffC_w0 = DiffC_w0 + (h(X[i],w0,w1) - y[i])\n",
    "        DiffC_w0 = DiffC_w0/m\n",
    "        \n",
    "        DiffC_w1 = DiffC_w1 + (h(X[i],w0,w1) - y[i])*X[i]\n",
    "        DiffC_w1 = DiffC_w1/m\n",
    "        \n",
    "    gradCost = [DiffC_w0, DiffC_w1]\n",
    "    return gradCost\n",
    "              \n",
    "def new_param(w0, w1, alpha, gCost) :  \n",
    "    \n",
    "    param_w0 = w0 - (alpha * gCost[0] )\n",
    "    param_w1 = w1 - (alpha * gCost[1] )\n",
    "    new_param = [param_w0, param_w1]\n",
    "    \n",
    "    return new_param  "
   ]
  },
  {
   "cell_type": "code",
   "execution_count": 6,
   "metadata": {
    "collapsed": true
   },
   "outputs": [],
   "source": [
    "def gradient_descent_without_matrix(X, y , m, alpha):\n",
    "    w0 = 0\n",
    "    w1 = 0\n",
    "   # for i in range(iterations):\n",
    "    w0,w1 = new_param(w0,w1, alpha ,gCost=grad_cost(w0,w1,X,y,m))\n",
    "        \n",
    "    return w0, w1   "
   ]
  },
  {
   "cell_type": "code",
   "execution_count": 7,
   "metadata": {
    "collapsed": true
   },
   "outputs": [],
   "source": [
    "w0 = 0\n",
    "w1 = 0\n",
    "old_cost = cost (w0, w1, m, X1, y1)"
   ]
  },
  {
   "cell_type": "code",
   "execution_count": 8,
   "metadata": {},
   "outputs": [
    {
     "name": "stdout",
     "output_type": "stream",
     "text": [
      "7.410333052252099e-05 0.0004810788260169604\n"
     ]
    }
   ],
   "source": [
    "alpha = 0.01\n",
    "#iterations = 2500\n",
    "error = 0.0001\n",
    "converge = False\n",
    "while not converge:\n",
    "    w0 , w1 = gradient_descent_without_matrix(X1, y1, m, alpha )\n",
    "    new_cost = cost (w0, w1, m, X1, y1)\n",
    "    \n",
    "    if abs(old_cost- new_cost)<=error:\n",
    "        converge = True\n",
    "    else:\n",
    "        old_cost = new_cost\n",
    "print (w0, w1)"
   ]
  },
  {
   "cell_type": "code",
   "execution_count": 9,
   "metadata": {},
   "outputs": [
    {
     "data": {
      "text/plain": [
       "30.763326943191114"
      ]
     },
     "execution_count": 9,
     "metadata": {},
     "output_type": "execute_result"
    }
   ],
   "source": [
    "cost (w0, w1, m, X1, y1) #Final Cost"
   ]
  },
  {
   "cell_type": "code",
   "execution_count": 10,
   "metadata": {
    "collapsed": true
   },
   "outputs": [],
   "source": [
    "def rmse( true_value, predicted_value):\n",
    "    rmse = np.sqrt(sum((predicted_value - true_value) ** 2) / len(true_value))\n",
    "    \n",
    "    return rmse"
   ]
  },
  {
   "cell_type": "code",
   "execution_count": 11,
   "metadata": {},
   "outputs": [
    {
     "name": "stdout",
     "output_type": "stream",
     "text": [
      "RMSE =  7.843892776318543\n"
     ]
    }
   ],
   "source": [
    "prediction = w0 + w1 * X1\n",
    "rmse = rmse(y1, prediction)\n",
    "print(\"RMSE = \", rmse)#RMSE"
   ]
  },
  {
   "cell_type": "markdown",
   "metadata": {},
   "source": [
    "### 2- Linear Regression with two variable"
   ]
  },
  {
   "cell_type": "code",
   "execution_count": 12,
   "metadata": {
    "collapsed": true
   },
   "outputs": [],
   "source": [
    "data2 = pd.read_csv('ex1data2.csv')\n",
    "data2.columns = ['house_size', 'total_bedrooms', 'price']\n",
    "data2_norm = (data2 - np.mean(data2, axis=0) / np.std(data2, axis=0))"
   ]
  },
  {
   "cell_type": "markdown",
   "metadata": {},
   "source": [
    "#### Gradient Descent Without Matrix "
   ]
  },
  {
   "cell_type": "code",
   "execution_count": 13,
   "metadata": {
    "collapsed": true
   },
   "outputs": [],
   "source": [
    "def cost_2(w0, w1, w2, m, X1, X2, y):  \n",
    "    C = 0\n",
    "    for i in range(m):\n",
    "        C = C + (h_2(X1[i], X2[i], w0, w1, w2) - y[i] )**2\n",
    "        C_val = C/(2.0*m)\n",
    "        \n",
    "    return C_val"
   ]
  },
  {
   "cell_type": "code",
   "execution_count": 14,
   "metadata": {
    "collapsed": true
   },
   "outputs": [],
   "source": [
    "def h_2(X1, X2, w0, w1, w2) :  \n",
    "    h = w0 + w1*X1 + w2 * X2\n",
    "    return h\n",
    "\n",
    "def grad_cost_2(w0, w1, w2 ,X1, X2 ,y, m) :  \n",
    "    DiffC_w0 = 0\n",
    "    DiffC_w1 = 0\n",
    "    DiffC_w2 = 0\n",
    "    \n",
    "    for i in range(m):\n",
    "        DiffC_w0 = DiffC_w0 + (h_2(X1[i], X2[i],w0, w1, w2) - y[i])\n",
    "        DiffC_w0 = DiffC_w0/m\n",
    "        \n",
    "        DiffC_w1 = DiffC_w1 + (h_2(X1[i], X2[i],w0, w1, w2) - y[i])*X1[i]\n",
    "        DiffC_w1 = DiffC_w1/m\n",
    "        \n",
    "        DiffC_w2 = DiffC_w2 + (h_2(X1[i], X2[i],w0, w1, w2) - y[i])*X2[i]\n",
    "        DiffC_w2 = DiffC_w2/m\n",
    "        \n",
    "    gradCost2 = [DiffC_w0, DiffC_w1, DiffC_w2]\n",
    "    return gradCost2\n",
    "              \n",
    "def new_param_2(w0, w1, w2, alpha, DCost) :  \n",
    "    param_w0 = w0 - (alpha * DCost[0] )\n",
    "    param_w1 = w1 - (alpha * DCost[1] )\n",
    "    param_w2 = w2 - (alpha * DCost[2] )\n",
    "    new_param = [param_w0, param_w1, param_w2]\n",
    "    \n",
    "    return new_param"
   ]
  },
  {
   "cell_type": "code",
   "execution_count": 15,
   "metadata": {
    "collapsed": true
   },
   "outputs": [],
   "source": [
    "def gradient_descent_without_matrix_2(X1, X2, y , m, alpha):\n",
    "    w0 = 0\n",
    "    w1 = 0\n",
    "    w2 = 0\n",
    "    #for i in range(iterations):\n",
    "    w0,w1, w2 = new_param_2(w0, w1, w2, alpha , DCost=grad_cost_2(w0, w1, w2 , X1, X2, y, m))\n",
    "    \n",
    "    return w0, w1, w2"
   ]
  },
  {
   "cell_type": "code",
   "execution_count": 16,
   "metadata": {
    "collapsed": true
   },
   "outputs": [],
   "source": [
    "X1_2 = data2['house_size']\n",
    "X2_2 = data2['total_bedrooms']\n",
    "y2 = data2['price']"
   ]
  },
  {
   "cell_type": "code",
   "execution_count": 17,
   "metadata": {
    "collapsed": true
   },
   "outputs": [],
   "source": [
    "m2 = len(y2)\n",
    "alpha2 = 0.01\n",
    "w0 = 0\n",
    "w1 = 0\n",
    "w2 = 0\n",
    "old_cost2 = cost_2(w0, w1, w2, m2, X1_2, X2_2, y2)"
   ]
  },
  {
   "cell_type": "code",
   "execution_count": 18,
   "metadata": {},
   "outputs": [
    {
     "name": "stdout",
     "output_type": "stream",
     "text": [
      "(53.501679940231654, 65275.87842635523, 161.90386947389067)\n"
     ]
    }
   ],
   "source": [
    "error = 0.0001\n",
    "converge = False\n",
    "while not converge:\n",
    "    w0, w1, w2 = gradient_descent_without_matrix_2(X1_2, X2_2, y2 , m2, alpha2)\n",
    "    new_cost2 = cost_2(w0, w1, w2, m2, X1_2, X2_2, y2)\n",
    "    \n",
    "    if abs(old_cost2 - new_cost2) <= error:\n",
    "        converge = True\n",
    "    else:\n",
    "        old_cost2 = new_cost2\n",
    "    \n",
    "print (w0, w1, w2)"
   ]
  },
  {
   "cell_type": "code",
   "execution_count": 19,
   "metadata": {},
   "outputs": [
    {
     "data": {
      "text/plain": [
       "9803912170162362.0"
      ]
     },
     "execution_count": 19,
     "metadata": {},
     "output_type": "execute_result"
    }
   ],
   "source": [
    "cost_2(w0, w1, w2, m2, X1_2, X2_2, y2) #Final Cost"
   ]
  },
  {
   "cell_type": "code",
   "execution_count": 20,
   "metadata": {
    "collapsed": true
   },
   "outputs": [],
   "source": [
    "prediction2_1 = w0 + w1 * X1_2 + w2* X2_2"
   ]
  },
  {
   "cell_type": "code",
   "execution_count": 21,
   "metadata": {},
   "outputs": [
    {
     "name": "stdout",
     "output_type": "stream",
     "text": [
      "('RMSE =', 1.9607824340324724e+16)\n"
     ]
    }
   ],
   "source": [
    "rmse = mean_squared_error(y2, prediction2_1) #RMSE\n",
    "print(\"RMSE =\" , rmse)"
   ]
  },
  {
   "cell_type": "markdown",
   "metadata": {},
   "source": [
    "#### 2-1 Gradient Descent With Matrix"
   ]
  },
  {
   "cell_type": "code",
   "execution_count": 22,
   "metadata": {
    "collapsed": true
   },
   "outputs": [],
   "source": [
    "data2 = pd.read_csv('ex1data2.csv')\n",
    "data2.columns = ['house_size', 'total_bedrooms', 'price']\n",
    "#normalization\n",
    "data2_norm = (data2 - np.mean(data2, axis=0) / np.std(data2, axis=0))\n",
    "data2.insert(0, 'Ones', 1)\n",
    "X2 = data2[['Ones', 'house_size', 'total_bedrooms']]\n",
    "y2 = data2['price']\n",
    "m2 = len(y2)"
   ]
  },
  {
   "cell_type": "code",
   "execution_count": 23,
   "metadata": {
    "collapsed": true
   },
   "outputs": [],
   "source": [
    "X2 = np.matrix(X2.values)  \n",
    "y2 = np.matrix(y2.values) \n",
    "theta_val = np.array([0,0,0])\n",
    "theta2 = np.matrix(theta_val) "
   ]
  },
  {
   "cell_type": "code",
   "execution_count": 24,
   "metadata": {
    "collapsed": true
   },
   "outputs": [],
   "source": [
    "matrix_j = int(theta2.ravel().shape[1])"
   ]
  },
  {
   "cell_type": "code",
   "execution_count": 25,
   "metadata": {
    "collapsed": true
   },
   "outputs": [],
   "source": [
    "#generalized gradient descent function for polynomial regression\n",
    "def gradient_descent_with_matrix(x, y, theta, alpha,precision, max_alpha=0, max_iteration= 1000000 ):\n",
    "    \n",
    "    m = len(y) \n",
    "    theta_history = [] \n",
    "    y_preds = []\n",
    "    costs = []\n",
    "    y_pred = np.dot(x, theta)\n",
    "    error = y_pred - y \n",
    "    old_cost = 0\n",
    "    new_cost = np.sum(error ** 2) / (2 * m)\n",
    "    costs.append(new_cost)\n",
    "    \n",
    "    \n",
    "    y_preds.append(y_pred)\n",
    "    \n",
    "    theta_history.append(theta)\n",
    "    iters = 0 # setting iterations to 0\n",
    "    iters = iters + 1\n",
    "    while abs(new_cost - old_cost) >= precision: # for optimization\n",
    "        \n",
    "        old_cost = new_cost #precision \n",
    "        gradient = x.T.dot(error)/m \n",
    "        theta = theta - alpha * gradient  #updating weight\n",
    "        theta_history.append(theta) #storing histoy of weights\n",
    "        y_pred = np.dot(x, theta)\n",
    "        error = y_pred - y \n",
    "        new_cost = np.sum(error ** 2)/(2 * m)\n",
    "        costs.append(new_cost)\n",
    "        y_preds.append(y_pred)\n",
    "        iters = iters + 1\n",
    "        \n",
    "        if iters > max_iteration:\n",
    "            print(\"Exceeded maximum iterations\")\n",
    "            break\n",
    "\n",
    "        \n",
    "    return theta_history, y_preds, iters, costs, alpha"
   ]
  },
  {
   "cell_type": "code",
   "execution_count": 26,
   "metadata": {
    "collapsed": true
   },
   "outputs": [],
   "source": [
    "X_ones = np.c_[np.ones(X1.shape[0]), X1] #adding ones column to the matrix\n",
    "theta_iters = np.array([0., 0.] )  #creating a numpy array \n",
    "theta, y_preds, iterations, cost, alpha = gradient_descent_with_matrix(X_ones, y1, theta_iters, alpha = 0.01,precision = 0.000001, )"
   ]
  },
  {
   "cell_type": "code",
   "execution_count": 27,
   "metadata": {},
   "outputs": [
    {
     "name": "stdout",
     "output_type": "stream",
     "text": [
      "Cost =  3.45985707443\n",
      "RMSE =  1.86006910475\n"
     ]
    }
   ],
   "source": [
    "print \"Cost = \", cost[-1]\n",
    "print \"RMSE = \", math.sqrt(cost[-1])"
   ]
  },
  {
   "cell_type": "markdown",
   "metadata": {},
   "source": [
    "#### 2-2 Normal Equation"
   ]
  },
  {
   "cell_type": "code",
   "execution_count": 28,
   "metadata": {
    "collapsed": true
   },
   "outputs": [],
   "source": [
    "data2 = pd.read_csv('ex1data2.csv')\n",
    "data2.columns = ['house_size', 'total_bedrooms', 'price']\n",
    "#normalization\n",
    "data2_norm = (data2 - data2.mean()) / (data2.max() - data2.min())\n",
    "data2 = data2_norm\n",
    "data2.insert(0, 'Ones', 1)\n",
    "columns = data2.shape[1]  \n",
    "X2 = data2.iloc[:,0:columns-1]  \n",
    "y2 = data2.iloc[:,columns-1:columns]"
   ]
  },
  {
   "cell_type": "code",
   "execution_count": 29,
   "metadata": {
    "collapsed": true
   },
   "outputs": [],
   "source": [
    "X2_data2 = np.matrix(X2)  \n",
    "y2_data2 = np.matrix(y2)  "
   ]
  },
  {
   "cell_type": "code",
   "execution_count": 30,
   "metadata": {},
   "outputs": [
    {
     "data": {
      "text/plain": [
       "array([[ 4.25007252e-17],\n",
       "       [ 9.49299388e-01],\n",
       "       [-6.17832472e-02]])"
      ]
     },
     "execution_count": 30,
     "metadata": {},
     "output_type": "execute_result"
    }
   ],
   "source": [
    "y2_ = np.reshape(y2,(-1,1))\n",
    "X2.T\n",
    "M1 = X2.T.dot(X2)\n",
    "M2 = np.linalg.inv(M1)\n",
    "M3 = M2.dot(X2.T)\n",
    "theta2_normal = M3.dot(y2_)\n",
    "\n",
    "theta2_normal"
   ]
  },
  {
   "cell_type": "code",
   "execution_count": 31,
   "metadata": {
    "collapsed": true
   },
   "outputs": [],
   "source": [
    "predict2_normal = X2.dot(theta2_normal)\n",
    "#predict2_normal = predict2_normal.T"
   ]
  },
  {
   "cell_type": "code",
   "execution_count": 32,
   "metadata": {},
   "outputs": [
    {
     "name": "stdout",
     "output_type": "stream",
     "text": [
      "('RMSE =', 0.014713444642714518)\n"
     ]
    }
   ],
   "source": [
    "rmse = mean_squared_error(y2, predict2_normal)\n",
    "print(\"RMSE =\" , rmse)"
   ]
  },
  {
   "cell_type": "markdown",
   "metadata": {},
   "source": [
    "### 3-1 Linear regression with multiple variables using matrix"
   ]
  },
  {
   "cell_type": "code",
   "execution_count": 33,
   "metadata": {
    "collapsed": true
   },
   "outputs": [],
   "source": [
    "data3 = pd.read_csv('ex1data3.csv')\n",
    "data3 = data3[['MedInc','HouseAge','AveRooms','AveBedrms','Population','AveOccup','Latitude','Longitude','price']].copy()\n",
    "data3_norm = (data3 - data3.mean()) / (data3.max() - data3.min())\n",
    "data3 = data3_norm\n",
    "data3.insert(0, 'Ones', 1)\n",
    "\n",
    "X3 = data3[['Ones', 'MedInc','HouseAge','AveRooms','AveBedrms','Population','AveOccup','Latitude','Longitude']]\n",
    "y3 = data3['price']"
   ]
  },
  {
   "cell_type": "code",
   "execution_count": 34,
   "metadata": {
    "collapsed": true
   },
   "outputs": [],
   "source": [
    "#X_ones = np.c_[np.ones(X3.shape[0]), X3] #adding ones column to the matrix\n",
    "theta_iters = np.array([0.,0.,0.,0.,0.,0.,0.,0.,0.])  #creating a numpy array \n",
    "theta, y_preds, iterations, cost, alpha = gradient_descent_with_matrix(X3, y3, theta_iters, alpha = 0.01,precision = 0.001, )"
   ]
  },
  {
   "cell_type": "code",
   "execution_count": 35,
   "metadata": {},
   "outputs": [
    {
     "name": "stdout",
     "output_type": "stream",
     "text": [
      "Cost =  0.0282978819095\n",
      "RMSE =  0.168219742924\n"
     ]
    }
   ],
   "source": [
    "print \"Cost = \", cost[-1]\n",
    "print \"RMSE = \", math.sqrt(cost[-1])"
   ]
  },
  {
   "cell_type": "markdown",
   "metadata": {},
   "source": [
    "### 3-2 Normal Equation"
   ]
  },
  {
   "cell_type": "code",
   "execution_count": 36,
   "metadata": {
    "collapsed": true
   },
   "outputs": [],
   "source": [
    "X3.T\n",
    "M= (X3.T).dot(X3)\n",
    "M1= np.linalg.inv(M)\n",
    "M2= M1.dot((X3.T))\n",
    "theta3_normal = M2.dot(y3.T)"
   ]
  },
  {
   "cell_type": "code",
   "execution_count": 37,
   "metadata": {
    "collapsed": true
   },
   "outputs": [],
   "source": [
    "predict3_normal = X3.dot(theta3_normal)\n",
    "predict3_normal = predict3_normal.T"
   ]
  },
  {
   "cell_type": "code",
   "execution_count": 38,
   "metadata": {},
   "outputs": [
    {
     "name": "stdout",
     "output_type": "stream",
     "text": [
      "RMSE = 0.022290005820579644\n"
     ]
    }
   ],
   "source": [
    "rmse3 = mean_squared_error(y3, predict3_normal)\n",
    "print \"RMSE =\" , rmse3"
   ]
  },
  {
   "cell_type": "markdown",
   "metadata": {},
   "source": [
    "### 3-3 SkLearn"
   ]
  },
  {
   "cell_type": "code",
   "execution_count": 39,
   "metadata": {
    "collapsed": true
   },
   "outputs": [],
   "source": [
    "data3 = pd.read_csv('ex1data3.csv')\n",
    "data3 = data3[['MedInc','HouseAge','AveRooms','AveBedrms','Population','AveOccup','Latitude','Longitude','price']].copy()\n",
    "data3_norm = (data3 - data3.mean()) / (data3.max() - data3.min())\n",
    "data3 = data3_norm\n",
    "#data3.insert(0, 'Ones', 1)\n",
    "X3 = data3[['MedInc','HouseAge','AveRooms','AveBedrms','Population','AveOccup','Latitude','Longitude']]\n",
    "y3 = data3['price']"
   ]
  },
  {
   "cell_type": "code",
   "execution_count": 40,
   "metadata": {
    "collapsed": true
   },
   "outputs": [],
   "source": [
    "Lin_reg= LinearRegression()\n",
    "Lin_reg.fit(X3, y3)\n",
    "predict3_sklearn = Lin_reg.predict(X3)"
   ]
  },
  {
   "cell_type": "code",
   "execution_count": 41,
   "metadata": {},
   "outputs": [
    {
     "name": "stdout",
     "output_type": "stream",
     "text": [
      "RMSE=  0.022290005820579648\n"
     ]
    }
   ],
   "source": [
    "rmse3_sklearn = mean_squared_error(y3, predict3_sklearn)\n",
    "print \"RMSE= \", rmse3_sklearn"
   ]
  },
  {
   "cell_type": "markdown",
   "metadata": {},
   "source": [
    "### 3-4 Tensor Flow"
   ]
  },
  {
   "cell_type": "code",
   "execution_count": 46,
   "metadata": {
    "collapsed": true
   },
   "outputs": [],
   "source": [
    "import tensorflow as tf\n",
    "import numpy as np"
   ]
  },
  {
   "cell_type": "code",
   "execution_count": 47,
   "metadata": {
    "collapsed": true
   },
   "outputs": [],
   "source": [
    "data3 = pd.read_csv('ex1data3.csv')\n",
    "data3 = data3[['MedInc','HouseAge','AveRooms','AveBedrms','Population','AveOccup','Latitude','Longitude','price']].copy()\n",
    "data3_norm = (data3 - data3.mean()) / (data3.max() - data3.min())\n",
    "data3 = data3_norm\n",
    "cols = data3.shape[1]\n",
    "X3 = data3[data3.columns[:cols-1]]\n",
    "X3.insert(0,'Ones',1) \n",
    "y3 = data3[data3.columns[cols-1:]]"
   ]
  },
  {
   "cell_type": "code",
   "execution_count": 48,
   "metadata": {
    "collapsed": true
   },
   "outputs": [],
   "source": [
    "theta = tf.Variable(tf.random_normal([X3.shape[1],1], mean=0.0, stddev=1.0, dtype=tf.float64))\n",
    "x = tf.placeholder(tf.float64)\n",
    "y = tf.placeholder(tf.float64)\n",
    "\n",
    "y_pred = tf.matmul(x, theta) #predicted value\n",
    "cost = tf.reduce_mean(tf.pow(y_pred - y, 2))  #cost function"
   ]
  },
  {
   "cell_type": "code",
   "execution_count": 49,
   "metadata": {},
   "outputs": [
    {
     "name": "stdout",
     "output_type": "stream",
     "text": [
      "RMSE =  0.151540539821\n"
     ]
    }
   ],
   "source": [
    "sess = tf.Session()\n",
    "init = tf.global_variables_initializer()\n",
    "optimizer = tf.train.GradientDescentOptimizer(0.01).minimize(cost)  #gradient optimizer\n",
    "costs = []\n",
    "\n",
    "def gradient_descent_tensorflow(iterations, X, Y):\n",
    "    sess.run(init)\n",
    "    new_cost = 0\n",
    "    for epoch in range(iterations):\n",
    "        sess.run(optimizer, feed_dict={x:X, y:Y})\n",
    "        new_cost = sess.run(cost, feed_dict={x:X, y:Y})\n",
    "        costs.append(new_cost)\n",
    "                \n",
    "    sess.close()\n",
    "    return math.sqrt(new_cost)\n",
    "\n",
    "rmse = gradient_descent_tensorflow(10000, X3, y3)\n",
    "print \"RMSE = \",rmse"
   ]
  },
  {
   "cell_type": "code",
   "execution_count": null,
   "metadata": {
    "collapsed": true
   },
   "outputs": [],
   "source": []
  }
 ],
 "metadata": {
  "kernelspec": {
   "display_name": "Python 2",
   "language": "python",
   "name": "python2"
  },
  "language_info": {
   "codemirror_mode": {
    "name": "ipython",
    "version": 2
   },
   "file_extension": ".py",
   "mimetype": "text/x-python",
   "name": "python",
   "nbconvert_exporter": "python",
   "pygments_lexer": "ipython2",
   "version": "2.7.14"
  }
 },
 "nbformat": 4,
 "nbformat_minor": 2
}
