{
 "cells": [
  {
   "cell_type": "markdown",
   "metadata": {},
   "source": [
    "## Assignment - 4\n",
    "### use python 3 for running the code"
   ]
  },
  {
   "cell_type": "code",
   "execution_count": 1,
   "metadata": {},
   "outputs": [
    {
     "name": "stderr",
     "output_type": "stream",
     "text": [
      "/Users/avni/anaconda2/envs/py36/lib/python3.6/site-packages/h5py/__init__.py:34: FutureWarning: Conversion of the second argument of issubdtype from `float` to `np.floating` is deprecated. In future, it will be treated as `np.float64 == np.dtype(float).type`.\n",
      "  from ._conv import register_converters as _register_converters\n"
     ]
    }
   ],
   "source": [
    "from __future__ import division\n",
    "import pandas as pd\n",
    "import tensorflow as tf\n",
    "import numpy as np\n",
    "import matplotlib.pyplot as plt"
   ]
  },
  {
   "cell_type": "code",
   "execution_count": 2,
   "metadata": {
    "collapsed": true
   },
   "outputs": [],
   "source": [
    "data_train = pd.read_csv('ex4_train.csv') "
   ]
  },
  {
   "cell_type": "markdown",
   "metadata": {},
   "source": [
    "#### one-hot encoding"
   ]
  },
  {
   "cell_type": "code",
   "execution_count": 3,
   "metadata": {
    "collapsed": true
   },
   "outputs": [],
   "source": [
    "def one_hot_encoding(input_data):\n",
    "    \n",
    "    y_category = ['0','1','2','3','4','5','6','7','8','9']\n",
    "    df = pd.DataFrame({'y': y_category})\n",
    "    df_one_hot = pd.get_dummies(input_data['y'], df) #using dummies to get one-hot encoding\n",
    "    y = df_one_hot.as_matrix() #modifying y to numpy array   \n",
    "\n",
    "    return y   "
   ]
  },
  {
   "cell_type": "markdown",
   "metadata": {},
   "source": [
    "#### split training and testing data"
   ]
  },
  {
   "cell_type": "code",
   "execution_count": 4,
   "metadata": {
    "collapsed": true
   },
   "outputs": [],
   "source": [
    "def split_data():\n",
    "    data_train = pd.read_csv('ex4_train.csv') #loading data\n",
    "    data_train = data_train.drop(['Unnamed: 0'],axis=1) \n",
    "    X_train = data_train.iloc[:,0:400] \n",
    "    m = X_train.shape[0] #m = 3500\n",
    "    y_train = data_train.iloc[:,-1]\n",
    "    y_train_one_hot = one_hot_encoding(data_train) #one-hot-encoded y\n",
    "    \n",
    "    data_test = pd.read_csv('ex4_test.csv')\n",
    "    data_test = data_test.drop(['Unnamed: 0'],axis=1) \n",
    "    X_test = data_test.iloc[:,0:400]\n",
    "    y_test_one_hot = one_hot_encoding(data_test) #one_hot encoded y\n",
    "    y_test = data_test.iloc[:,-1]\n",
    "    \n",
    "    return X_train,y_train, X_test, y_test, m, y_train_one_hot, y_test_one_hot"
   ]
  },
  {
   "cell_type": "code",
   "execution_count": 5,
   "metadata": {
    "collapsed": true
   },
   "outputs": [],
   "source": [
    "X_train, y_train ,X_test, y_test, m , y_train_one_hot, y_test_one_hot = split_data() #getting split data\n",
    "X = X_train\n",
    "Y = y_train_one_hot"
   ]
  },
  {
   "cell_type": "code",
   "execution_count": 6,
   "metadata": {
    "collapsed": true
   },
   "outputs": [],
   "source": [
    "# y_indices = [0,1,2,3,4,5,6,7,8,9]\n",
    "# data_train = pd.read_csv('ex4_train.csv') #loading data\n",
    "# depth = 10\n",
    "# y_one_hot= tf.one_hot(data_train['y'], depth)  # shape= (3500, 10)\n",
    "# # y = y_one_hot"
   ]
  },
  {
   "cell_type": "markdown",
   "metadata": {},
   "source": [
    "#### defining number of neurons in each layer"
   ]
  },
  {
   "cell_type": "code",
   "execution_count": 7,
   "metadata": {
    "collapsed": true
   },
   "outputs": [],
   "source": [
    "input_layer_shape = 400\n",
    "h1_shape = 100\n",
    "h2_shape = 30\n",
    "output_layer_shape = 10"
   ]
  },
  {
   "cell_type": "markdown",
   "metadata": {},
   "source": [
    "#### xavier initialization"
   ]
  },
  {
   "cell_type": "code",
   "execution_count": 8,
   "metadata": {
    "collapsed": true
   },
   "outputs": [],
   "source": [
    "def xavier_initialization(input_layer_shape, output_layer_shape , h1_shape, h2_shape):\n",
    "#     tf.reset_default_graph()\n",
    "    \n",
    "    seed = 1\n",
    "    \"Setting Random Seed = 1\"\n",
    "    tf.set_random_seed(seed)\n",
    "    \n",
    "    W1 = tf.get_variable(\"W1\", shape=(input_layer_shape, h1_shape ), initializer=tf.contrib.layers.xavier_initializer())\n",
    "    \n",
    "    b1 = tf.Variable(tf.zeros(h1_shape))\n",
    "    \n",
    "    W2 = tf.get_variable(\"W2\", shape=(h1_shape, h2_shape), initializer=tf.contrib.layers.xavier_initializer())\n",
    "    \n",
    "    b2 = tf.Variable(tf.zeros(h2_shape))\n",
    "    \n",
    "    W3 = tf.get_variable(\"W3\", shape=( h2_shape , output_layer_shape), initializer=tf.contrib.layers.xavier_initializer())\n",
    "    \n",
    "    b3 = tf.Variable(tf.zeros(output_layer_shape))\n",
    "    \n",
    "      \n",
    "    return W1, b1, W2, b2, W3, b3\n",
    "# shape : W1(400, 100)   W2(100, 30)  W3(30,10)  b1(100, 1)   b2(30, 1)  b3(10,1)"
   ]
  },
  {
   "cell_type": "code",
   "execution_count": 9,
   "metadata": {
    "collapsed": true
   },
   "outputs": [],
   "source": [
    "W1, b1, W2, b2, W3, b3 = xavier_initialization(input_layer_shape = 400, output_layer_shape = 10, h1_shape = 100, h2_shape = 30)"
   ]
  },
  {
   "cell_type": "markdown",
   "metadata": {},
   "source": [
    "#### placeholders"
   ]
  },
  {
   "cell_type": "code",
   "execution_count": 10,
   "metadata": {
    "collapsed": true
   },
   "outputs": [],
   "source": [
    "def placeholders():\n",
    "    # tf.reset_default_graph()\n",
    "    n_input= X_train.shape[1]\n",
    "    n_classes = 10\n",
    "  \n",
    "    x = tf.placeholder(shape = [None, 400], dtype= tf.float32, name= 'x')\n",
    " \n",
    "    y = tf.placeholder(shape= [None, 10], dtype= tf.float32, name = 'y')\n",
    "    \n",
    "#     mat = X_test.as_matrix()\n",
    "    x_test = tf.placeholder(shape = [1500,400], dtype=tf.float32, name= 'x_test')\n",
    "    y_test = tf.placeholder(shape= [1500, 10], dtype= tf.float32, name = 'y_test')\n",
    "    # # Dropout on hidden layers\n",
    "    keep_prob = tf.placeholder(\"float\")\n",
    "    return x, y, keep_prob,x_test,y_test"
   ]
  },
  {
   "cell_type": "code",
   "execution_count": 11,
   "metadata": {
    "collapsed": true
   },
   "outputs": [],
   "source": [
    "x, y, keep_prob, x_test, y_test = placeholders()"
   ]
  },
  {
   "cell_type": "markdown",
   "metadata": {},
   "source": [
    "#### forward propagation with dropout -: Neural Network with 2 hidden layers"
   ]
  },
  {
   "cell_type": "code",
   "execution_count": 12,
   "metadata": {
    "collapsed": true
   },
   "outputs": [],
   "source": [
    "def forward_propagation_with_dropout(x, W1, b1, W2, b2, W3, b3 ):\n",
    "    # 1st Hidden layer with dropout and relu activation\n",
    "    h1 = tf.nn.relu(tf.matmul(x, W1) + b1)\n",
    "    h1_dropout = tf.nn.dropout(h1, keep_prob)\n",
    "\n",
    "    # 2nd Hidden layer with dropout and relu activation\n",
    "    h2 = tf.nn.relu(tf.matmul(h1_dropout, W2) + b2)\n",
    "    h2_dropout = tf.nn.dropout(h2, keep_prob)\n",
    "\n",
    "    # sigmoid on last layer\n",
    "    logits = tf.nn.sigmoid(tf.matmul(h2_dropout, W3) + b3)\n",
    "    \n",
    "    return logits\n"
   ]
  },
  {
   "cell_type": "code",
   "execution_count": 13,
   "metadata": {
    "collapsed": true
   },
   "outputs": [],
   "source": [
    "logits = forward_propagation_with_dropout(x, W1, b1, W2, b2, W3, b3)"
   ]
  },
  {
   "cell_type": "markdown",
   "metadata": {},
   "source": [
    "#### cost function"
   ]
  },
  {
   "cell_type": "code",
   "execution_count": 14,
   "metadata": {
    "collapsed": true
   },
   "outputs": [],
   "source": [
    "def cost(logits):\n",
    "    loss = tf.reduce_mean(tf.nn.softmax_cross_entropy_with_logits_v2(logits=logits, labels=y)) \n",
    "    # placeholder y is labels\n",
    "    return loss"
   ]
  },
  {
   "cell_type": "code",
   "execution_count": 15,
   "metadata": {
    "collapsed": true
   },
   "outputs": [],
   "source": [
    "loss = cost(logits)"
   ]
  },
  {
   "cell_type": "markdown",
   "metadata": {},
   "source": [
    "#### optimizer"
   ]
  },
  {
   "cell_type": "code",
   "execution_count": 16,
   "metadata": {
    "collapsed": true
   },
   "outputs": [],
   "source": [
    "def optimizer_compute(loss):\n",
    "    learn_rate = 0.001\n",
    "    optimizer = tf.train.AdamOptimizer(learn_rate).minimize(loss)\n",
    "    return optimizer"
   ]
  },
  {
   "cell_type": "code",
   "execution_count": 17,
   "metadata": {
    "collapsed": true
   },
   "outputs": [],
   "source": [
    "optimizer = optimizer_compute(loss)"
   ]
  },
  {
   "cell_type": "markdown",
   "metadata": {},
   "source": [
    "#### accuracy"
   ]
  },
  {
   "cell_type": "code",
   "execution_count": 18,
   "metadata": {
    "collapsed": true
   },
   "outputs": [],
   "source": [
    "def accuracy(y_pred, y_true):\n",
    "    return (100.0 * np.sum(np.argmax(y_pred, 1) == np.argmax(y_true, 1))/ y_pred.shape[0])"
   ]
  },
  {
   "cell_type": "code",
   "execution_count": 19,
   "metadata": {
    "collapsed": true
   },
   "outputs": [],
   "source": [
    "y_float= np.float32(y_train_one_hot)\n",
    "X_float = np.float32(X)\n",
    "y_test_float = np.float32(y_test_one_hot)\n",
    "X_test_float = np.float32(X_test)"
   ]
  },
  {
   "cell_type": "code",
   "execution_count": 20,
   "metadata": {
    "collapsed": true
   },
   "outputs": [],
   "source": [
    "train_predictions = tf.nn.softmax(logits)"
   ]
  },
  {
   "cell_type": "code",
   "execution_count": 21,
   "metadata": {
    "collapsed": true
   },
   "outputs": [],
   "source": [
    "## test data\n",
    "logits_test = forward_propagation_with_dropout(x_test, W1, b1, W2, b2, W3, b3)\n",
    "test_predictions = tf.nn.softmax(logits_test)"
   ]
  },
  {
   "cell_type": "markdown",
   "metadata": {},
   "source": [
    "#### Neural network with 2 hidden layers and dropout"
   ]
  },
  {
   "cell_type": "code",
   "execution_count": 22,
   "metadata": {
    "collapsed": true
   },
   "outputs": [],
   "source": [
    "def deep_neural_network(probability):\n",
    "    epochs = 5000\n",
    "    with tf.Session() as sess:\n",
    "\n",
    "        sess.run(tf.global_variables_initializer())\n",
    "        print('Initialized')\n",
    "        for e in range(epochs):\n",
    "\n",
    "            op, l, predictions_train = sess.run([optimizer, loss, train_predictions], feed_dict={x: X_float, y: y_float, keep_prob :probability})\n",
    "\n",
    "\n",
    "        print(\"accuracy: {:.1f}\".format(accuracy(predictions_train, y_train_one_hot)))\n",
    "        train_acc = accuracy(predictions_train, y_train_one_hot)\n",
    "        predictions_test = test_predictions.eval(feed_dict = {x_test: X_test_float, y_test: y_test_float, keep_prob : 1.0})\n",
    "\n",
    "        print(\"test accuracy: {:.1f}\".format(accuracy( predictions_test ,y_test_one_hot)))\n",
    "        test_acc = accuracy( predictions_test ,y_test_one_hot)\n",
    "        return train_acc, test_acc\n",
    "        \n",
    "\n",
    "                "
   ]
  },
  {
   "cell_type": "markdown",
   "metadata": {},
   "source": [
    "#### Optimization and prediction with different dropouts "
   ]
  },
  {
   "cell_type": "code",
   "execution_count": 23,
   "metadata": {},
   "outputs": [
    {
     "name": "stdout",
     "output_type": "stream",
     "text": [
      "probability =  0.3\n",
      "Initialized\n",
      "accuracy: 75.3\n",
      "test accuracy: 81.7\n",
      "probability =  0.6\n",
      "Initialized\n",
      "accuracy: 98.7\n",
      "test accuracy: 93.0\n",
      "probability =  0.9\n",
      "Initialized\n",
      "accuracy: 99.7\n",
      "test accuracy: 94.1\n"
     ]
    }
   ],
   "source": [
    "probab= [0.3, 0.6, 0.9]\n",
    "train_acc_list = []\n",
    "test_acc_list = []\n",
    "for p in probab:\n",
    "    print (\"probability = \", p)\n",
    "    train_acc, test_acc = deep_neural_network(p)\n",
    "    train_acc_list.append(train_acc)\n",
    "    test_acc_list.append(test_acc)\n",
    "    "
   ]
  },
  {
   "cell_type": "code",
   "execution_count": 24,
   "metadata": {},
   "outputs": [
    {
     "data": {
      "image/png": "[encoded data removed]",
      "text/plain": [
       "<matplotlib.figure.Figure at 0x1c276d0f98>"
      ]
     },
     "metadata": {},
     "output_type": "display_data"
    }
   ],
   "source": [
    "fig = plt.figure()\n",
    "\n",
    "ax = fig.add_subplot(111)\n",
    "\n",
    "ax.set_title(\"plotting accuracy vs probability that each element is kept in regularization\")\n",
    "\n",
    "ax.set_xlabel(\"probability in drop-out\")\n",
    "ax.set_ylabel(\"test accuracy\")\n",
    "\n",
    "plt.plot(probab, train_acc_list, 'r', label='training data accuracy')\n",
    "plt.plot(probab, test_acc_list, 'b', label='testing data accuracy')\n",
    "\n",
    "ax.legend()\n",
    "plt.show()"
   ]
  },
  {
   "cell_type": "markdown",
   "metadata": {},
   "source": [
    "Best accuracy is achieved with probability that each element is kept= 0.9 and learning rate = 0.001 with 5000 iterations\n",
    "##### Best Test accuracy = 94.1%"
   ]
  },
  {
   "cell_type": "code",
   "execution_count": null,
   "metadata": {
    "collapsed": true
   },
   "outputs": [],
   "source": []
  }
 ],
 "metadata": {
  "kernelspec": {
   "display_name": "Python 2",
   "language": "python",
   "name": "python2"
  },
  "language_info": {
   "codemirror_mode": {
    "name": "ipython",
    "version": 2
   },
   "file_extension": ".py",
   "mimetype": "text/x-python",
   "name": "python",
   "nbconvert_exporter": "python",
   "pygments_lexer": "ipython2",
   "version": "2.7.14"
  }
 },
 "nbformat": 4,
 "nbformat_minor": 2
}
