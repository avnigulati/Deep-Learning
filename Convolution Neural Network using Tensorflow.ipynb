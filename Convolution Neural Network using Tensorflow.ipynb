{
 "cells": [
  {
   "cell_type": "markdown",
   "metadata": {
    "collapsed": true
   },
   "source": [
    "#### use python 3.6 and tensorflow version 1.4.0 to run the code"
   ]
  },
  {
   "cell_type": "code",
   "execution_count": 1,
   "metadata": {},
   "outputs": [
    {
     "name": "stderr",
     "output_type": "stream",
     "text": [
      "/Users/avni/anaconda2/envs/py36/lib/python3.6/importlib/_bootstrap.py:219: RuntimeWarning: compiletime version 3.5 of module 'tensorflow.python.framework.fast_tensor_util' does not match runtime version 3.6\n",
      "  return f(*args, **kwds)\n",
      "/Users/avni/anaconda2/envs/py36/lib/python3.6/site-packages/h5py/__init__.py:34: FutureWarning: Conversion of the second argument of issubdtype from `float` to `np.floating` is deprecated. In future, it will be treated as `np.float64 == np.dtype(float).type`.\n",
      "  from ._conv import register_converters as _register_converters\n"
     ]
    }
   ],
   "source": [
    "from __future__ import division\n",
    "import pandas as pd\n",
    "import numpy as np\n",
    "import matplotlib.pyplot as plt\n",
    "import tensorflow as tf"
   ]
  },
  {
   "cell_type": "markdown",
   "metadata": {},
   "source": [
    "#### one-hot encoding function"
   ]
  },
  {
   "cell_type": "code",
   "execution_count": 2,
   "metadata": {
    "collapsed": true
   },
   "outputs": [],
   "source": [
    "def one_hot_encoding(total_sample, input_data, numbers):\n",
    "    y = np.zeros((total_sample, numbers))\n",
    "    for i in range(total_sample):\n",
    "        position = input_data[i][0]\n",
    "        y[i][position] = 1\n",
    "    return y"
   ]
  },
  {
   "cell_type": "markdown",
   "metadata": {},
   "source": [
    "#### Loading and normalizing testing and training data"
   ]
  },
  {
   "cell_type": "code",
   "execution_count": 3,
   "metadata": {},
   "outputs": [
    {
     "name": "stdout",
     "output_type": "stream",
     "text": [
      "train y shape = (1020,)\n",
      "train x shape = (1020, 64, 64, 3)\n"
     ]
    }
   ],
   "source": [
    "train_x = np.load('exam2_train_x.npy')\n",
    "train_y = np.load('exam2_train_y.npy')\n",
    "print (\"train y shape =\", train_y.shape)\n",
    "print (\"train x shape =\", train_x.shape)"
   ]
  },
  {
   "cell_type": "code",
   "execution_count": 4,
   "metadata": {},
   "outputs": [
    {
     "data": {
      "text/plain": [
       "(1020, 6)"
      ]
     },
     "execution_count": 4,
     "metadata": {},
     "output_type": "execute_result"
    }
   ],
   "source": [
    "Y_train = np.reshape(train_y, (train_y.shape[0],1))\n",
    "train_y_one_hot = one_hot_encoding(1020, Y_train, 6)\n",
    "train_y_one_hot.shape"
   ]
  },
  {
   "cell_type": "code",
   "execution_count": 5,
   "metadata": {},
   "outputs": [
    {
     "name": "stdout",
     "output_type": "stream",
     "text": [
      "test y shape = (180,)\n",
      "test x shape = (180, 64, 64, 3)\n"
     ]
    }
   ],
   "source": [
    "test_x = np.load('exam2_test_x.npy')\n",
    "test_y = np.load('exam2_test_y.npy')\n",
    "print (\"test y shape =\", test_y.shape)\n",
    "print (\"test x shape =\", test_x.shape)"
   ]
  },
  {
   "cell_type": "code",
   "execution_count": 6,
   "metadata": {},
   "outputs": [
    {
     "data": {
      "text/plain": [
       "(180, 6)"
      ]
     },
     "execution_count": 6,
     "metadata": {},
     "output_type": "execute_result"
    }
   ],
   "source": [
    "Y_test = np.reshape(test_y, (test_y.shape[0],1))\n",
    "test_y_one_hot = one_hot_encoding(180, Y_test, 6)\n",
    "test_y_one_hot.shape"
   ]
  },
  {
   "cell_type": "code",
   "execution_count": 7,
   "metadata": {},
   "outputs": [
    {
     "data": {
      "text/plain": [
       "(1020, 64, 64, 3)"
      ]
     },
     "execution_count": 7,
     "metadata": {},
     "output_type": "execute_result"
    }
   ],
   "source": [
    "train_x_norm = train_x/255 - 0.5\n",
    "train_x_norm.shape"
   ]
  },
  {
   "cell_type": "code",
   "execution_count": 8,
   "metadata": {},
   "outputs": [
    {
     "data": {
      "text/plain": [
       "(180, 64, 64, 3)"
      ]
     },
     "execution_count": 8,
     "metadata": {},
     "output_type": "execute_result"
    }
   ],
   "source": [
    "test_x_norm = test_x/255 - 0.5\n",
    "test_x_norm.shape"
   ]
  },
  {
   "cell_type": "code",
   "execution_count": 9,
   "metadata": {
    "collapsed": true
   },
   "outputs": [],
   "source": [
    "def placeholders(height, width, channels, classes): \n",
    "   \n",
    "    x = tf.placeholder(tf.float32, [None, height, width, channels], name= 'x')\n",
    "    y = tf.placeholder(tf.float32, [None, classes], name= 'y')\n",
    " #     mat = X_test.as_matrix()\n",
    "    return x, y"
   ]
  },
  {
   "cell_type": "code",
   "execution_count": 10,
   "metadata": {
    "collapsed": true
   },
   "outputs": [],
   "source": [
    "def forward_propagation_with_dropout_xavier_initialization(X,keep_prob):\n",
    "\n",
    "    print (\"X shape =\", X.shape)\n",
    "    A1 = tf.layers.conv2d(X, filters = 8, kernel_size= (4,4), strides=(2, 2), padding='same' ,activation = tf.nn.relu,use_bias = True, kernel_initializer= tf.contrib.layers.xavier_initializer(seed=1) , bias_initializer=tf.zeros_initializer())\n",
    "   \n",
    "    print (\"A1 shape =\", A1.shape, \",channels= 8, kernel size = [4,4] , strides = [2,2], padding = same, activation= RELU, initialization = xavier\")    \n",
    " \n",
    "    P1 = tf.layers.max_pooling2d(A1, pool_size=(5,5), strides = (1, 1), padding='valid')\n",
    "    \n",
    "    print (\"P1 shape =\", P1.shape, \",pool size = [5,5], strides = [1,1], padding = valid\")\n",
    "\n",
    "    A2 = tf.layers.conv2d(P1, filters = 16, kernel_size= (4,4), strides= (2, 2), padding='valid' ,activation = tf.nn.relu, use_bias = True, kernel_initializer= tf.contrib.layers.xavier_initializer(seed=1) , bias_initializer=tf.zeros_initializer())\n",
    "\n",
    "    print (\"A2 shape =\", A2.shape, \",channels = 16, kernel size = [4,4], strides [2,2], padding = valid, activation = RELU, initialization = xavier\")\n",
    "\n",
    "    P2 = tf.layers.average_pooling2d(A2, pool_size=(5,5),  strides = (1, 1), padding='valid')\n",
    "    \n",
    "    print (\"P2 shape =\", P2.shape, \",pool size = [5,5], strides = [1,1], padding = valid\")\n",
    "  \n",
    "    F3 = tf.contrib.layers.flatten(P2)\n",
    "    \n",
    "    print (\"F3 shape =\", F3.shape)\n",
    "  \n",
    "    F4 = tf.contrib.layers.fully_connected(F3, 108, activation_fn= tf.nn.relu)\n",
    "    \n",
    "    print (\"F4 shape =\", F4.shape, \",activation = RELU\")\n",
    "    F4_dropout = tf.nn.dropout(F4, keep_prob)\n",
    "    print (\"keep probablility F4 = \", keep_prob)\n",
    "    \n",
    "    F5 = tf.contrib.layers.fully_connected(F4_dropout, 6, activation_fn= tf.nn.sigmoid)\n",
    "#     F5_dropout = tf.nn.dropout(F5, keep_prob)\n",
    "    print (\"F5 shape =\", F5.shape, \",activation = sigmoid\")\n",
    "\n",
    "    return F5"
   ]
  },
  {
   "cell_type": "code",
   "execution_count": 11,
   "metadata": {
    "collapsed": true
   },
   "outputs": [],
   "source": [
    "def compute_cost(F5, y_labels):\n",
    "    \n",
    "    cost = tf.reduce_mean(tf.nn.softmax_cross_entropy_with_logits(logits=F5, labels= y_labels))\n",
    "   \n",
    "    return cost"
   ]
  },
  {
   "cell_type": "code",
   "execution_count": 12,
   "metadata": {
    "collapsed": true
   },
   "outputs": [],
   "source": [
    "def cnn_model(train_x, train_y, test_x, test_y, lr ,total_epochs,keep_prob): \n",
    "    \n",
    "    tf.reset_default_graph()                         \n",
    "    tf.set_random_seed(1) \n",
    "    np.random.seed(1)\n",
    "    total_costs = []\n",
    "    classes = train_y.shape[1]  \n",
    "    samples = train_x.shape[0]\n",
    "    height = train_x.shape[1]\n",
    "    width = train_x.shape[2]\n",
    "    channels = train_x.shape[3]     \n",
    "    x, y = placeholders(height, width, channels, classes)\n",
    "    \n",
    "    #initialization , forward propagation and drop out in one function\n",
    "    F5 = forward_propagation_with_dropout_xavier_initialization(x,  keep_prob)\n",
    "  \n",
    "    old_cost = compute_cost(F5, y) #computing old cost\n",
    "     \n",
    "    op = tf.train.AdamOptimizer(lr).minimize(old_cost) # optimizing using Adam Optimizer\n",
    "       \n",
    "    with tf.Session() as sess:     \n",
    "        sess.run(tf.global_variables_initializer())\n",
    "        \n",
    "        for epoch in range(total_epochs):\n",
    "            op_updated , new_cost = sess.run([op, old_cost], feed_dict={x:train_x, y:train_y})\n",
    "            \n",
    "            total_costs.append(new_cost) \n",
    "            \n",
    "            if epoch % 100 == 0:\n",
    "                print (\"epoch =\",epoch,\"; new cost = \" ,new_cost)                \n",
    "  \n",
    "        total_matches = tf.equal(tf.argmax(y, 1), tf.argmax(F5, 1))   \n",
    "#      total_matches = tf.equal(tf.nn.softmax(y), tf.nn.softmax(F5))\n",
    "        acc = tf.reduce_mean(tf.cast(total_matches, \"float\"))\n",
    "        percent = tf.constant(100, dtype= tf.float32)\n",
    "        acc_percent = tf.multiply(acc , percent)\n",
    "    \n",
    "        train_acc = acc_percent.eval({x: train_x, y: train_y})\n",
    "        test_acc = acc_percent.eval({x: test_x, y: test_y})        \n",
    "              \n",
    "        return total_costs, train_acc, test_acc"
   ]
  },
  {
   "cell_type": "code",
   "execution_count": 13,
   "metadata": {},
   "outputs": [
    {
     "name": "stdout",
     "output_type": "stream",
     "text": [
      "X shape = (?, 64, 64, 3)\n",
      "A1 shape = (?, 32, 32, 8) ,channels= 8, kernel size = [4,4] , strides = [2,2], padding = same, activation= RELU, initialization = xavier\n",
      "P1 shape = (?, 28, 28, 8) ,pool size = [5,5], strides = [1,1], padding = valid\n",
      "A2 shape = (?, 13, 13, 16) ,channels = 16, kernel size = [4,4], strides [2,2], padding = valid, activation = RELU, initialization = xavier\n",
      "P2 shape = (?, 9, 9, 16) ,pool size = [5,5], strides = [1,1], padding = valid\n",
      "F3 shape = (?, 1296)\n",
      "F4 shape = (?, 108) ,activation = RELU\n",
      "keep probablility F4 =  0.9\n",
      "F5 shape = (?, 6) ,activation = sigmoid\n",
      "epoch = 0 ; new cost =  1.7919747\n",
      "epoch = 100 ; new cost =  1.1001912\n",
      "epoch = 200 ; new cost =  1.0600066\n",
      "epoch = 300 ; new cost =  1.0519183\n",
      "epoch = 400 ; new cost =  1.0497301\n"
     ]
    }
   ],
   "source": [
    "total_costs, train_acc, test_acc = cnn_model(train_x_norm, train_y_one_hot, test_x_norm , test_y_one_hot, 0.01, 500, 0.9) "
   ]
  },
  {
   "cell_type": "code",
   "execution_count": 14,
   "metadata": {},
   "outputs": [
    {
     "name": "stdout",
     "output_type": "stream",
     "text": [
      "training data accuracy = 99.5098  %\n",
      "testing data accuracy = 96.666664  %\n"
     ]
    },
    {
     "data": {
      "image/png": "[encoded data removed]",
      "text/plain": [
       "<matplotlib.figure.Figure at 0x1a22221be0>"
      ]
     },
     "metadata": {},
     "output_type": "display_data"
    }
   ],
   "source": [
    "print(\"training data accuracy =\", train_acc, \" %\")\n",
    "print(\"testing data accuracy =\", test_acc, \" %\")\n",
    "\"Plotting cost vs iterations graph\"\n",
    "plt.plot(total_costs)       \n",
    "plt.xlabel(\"iterations\")\n",
    "plt.ylabel(\"cost\")\n",
    "plt.title(\"learning rate = 0.01\")\n",
    "plt.show()"
   ]
  },
  {
   "cell_type": "markdown",
   "metadata": {},
   "source": [
    "#### Training Data Accuracy = 99.5098 %\n",
    "#### Testing Data Accuracy = 96.67 % "
   ]
  },
  {
   "cell_type": "code",
   "execution_count": null,
   "metadata": {
    "collapsed": true
   },
   "outputs": [],
   "source": []
  }
 ],
 "metadata": {
  "kernelspec": {
   "display_name": "Python 2",
   "language": "python",
   "name": "python2"
  },
  "language_info": {
   "codemirror_mode": {
    "name": "ipython",
    "version": 2
   },
   "file_extension": ".py",
   "mimetype": "text/x-python",
   "name": "python",
   "nbconvert_exporter": "python",
   "pygments_lexer": "ipython2",
   "version": "2.7.14"
  }
 },
 "nbformat": 4,
 "nbformat_minor": 2
}
