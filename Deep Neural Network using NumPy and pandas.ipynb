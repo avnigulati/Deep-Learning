{
 "cells": [
  {
   "cell_type": "markdown",
   "metadata": {},
   "source": [
    "### Assignment - 3\n"
   ]
  },
  {
   "cell_type": "code",
   "execution_count": 1,
   "metadata": {
    "collapsed": true
   },
   "outputs": [],
   "source": [
    "from __future__ import division\n",
    "import pandas as pd\n",
    "import numpy as np\n",
    "import matplotlib.pyplot as plt"
   ]
  },
  {
   "cell_type": "markdown",
   "metadata": {
    "collapsed": true
   },
   "source": [
    "### 1\n",
    "#### one-hot encoding"
   ]
  },
  {
   "cell_type": "code",
   "execution_count": 2,
   "metadata": {
    "collapsed": true
   },
   "outputs": [],
   "source": [
    "def one_hot_encoding(input_data):\n",
    "    \n",
    "    y_category = ['0','1','2','3','4','5','6','7','8','9']\n",
    "    df = pd.DataFrame({'y': y_category})\n",
    "    df_one_hot = pd.get_dummies(input_data['y'], df) #using dummies to get one-hot encoding\n",
    "    y = df_one_hot.as_matrix() #modifying y to numpy array   \n",
    "    return y   # y shape : (3500, 10)"
   ]
  },
  {
   "cell_type": "markdown",
   "metadata": {},
   "source": [
    "#### sigmoid function"
   ]
  },
  {
   "cell_type": "code",
   "execution_count": 3,
   "metadata": {
    "collapsed": true
   },
   "outputs": [],
   "source": [
    "def sigmoid(Z):     \n",
    "    return 1/ (1 + np.exp(-Z))"
   ]
  },
  {
   "cell_type": "markdown",
   "metadata": {},
   "source": [
    "#### forward propagation"
   ]
  },
  {
   "cell_type": "code",
   "execution_count": 4,
   "metadata": {
    "collapsed": true
   },
   "outputs": [],
   "source": [
    "def forward_propagation(W1,W2,X,b1,b2):\n",
    "    \n",
    "    Z1 = np.add(np.dot(W1, X.T) , b1) \n",
    "    A1 = sigmoid(Z1)\n",
    "    Z2 = np.add(np.dot(W2,A1), b2)\n",
    "    A2 = sigmoid(Z2)   \n",
    "    return Z1, A1, Z2, A2\n",
    "# shape: Z1=(25, 3500)   A1=(25, 3500)   Z2= (10, 3500)   A2=(10, 3500)"
   ]
  },
  {
   "cell_type": "markdown",
   "metadata": {},
   "source": [
    "#### backward propagation function"
   ]
  },
  {
   "cell_type": "code",
   "execution_count": 5,
   "metadata": {
    "collapsed": true
   },
   "outputs": [],
   "source": [
    "def backward_propagation(m, A2,A1, W2, X, y):\n",
    "    dZ2 = np.subtract(A2, y.T)  # shape (10,3500)\n",
    "    dW2 = (1/m)*(np.dot(dZ2 , A1.T))   # shape (10,25)\n",
    "    db2 = (1/m)*(np.sum(dZ2, axis = 1, keepdims = True)) # shape (10,1)\n",
    "        \n",
    "    dA1= np.dot(dZ2.T, W2)   # shape (25,3500)\n",
    "    dZ1 = np.multiply(dA1.T, np.multiply(A1, (1- A1))) # shape (25, 3500)\n",
    "    dW1 = (1/m)*(np.dot(dZ1, X))    # shape (25, 400)\n",
    "    db1 = (1/m)*(np.sum(dZ1, axis = 1, keepdims = True))  # shape (25,1)\n",
    "       \n",
    "    return dZ1, dZ2, dW1, dW2, db1, db2"
   ]
  },
  {
   "cell_type": "markdown",
   "metadata": {},
   "source": [
    "#### gradient descent"
   ]
  },
  {
   "cell_type": "code",
   "execution_count": 6,
   "metadata": {
    "collapsed": true
   },
   "outputs": [],
   "source": [
    "def gradient_descent(W1, b1, db1, dW1, W2, b2, db2, dW2, alpha):   \n",
    "    W1_new = W1 - (alpha * dW1)\n",
    "    b1_new = b1 - (alpha * db1)\n",
    "    W2_new = W2 - (alpha * dW2)\n",
    "    b2_new = b2 - (alpha * db2)\n",
    "    return W1_new, b1_new, W2_new, b2_new"
   ]
  },
  {
   "cell_type": "markdown",
   "metadata": {},
   "source": [
    "#### softmax sunction"
   ]
  },
  {
   "cell_type": "code",
   "execution_count": 7,
   "metadata": {
    "collapsed": true
   },
   "outputs": [],
   "source": [
    "def softmax(x):\n",
    "    denom_soft = np.sum(np.exp(x), axis = 1)\n",
    "    pk =  np.exp(x) /(denom_soft).reshape(denom_soft.shape[0],1)\n",
    "    return pk"
   ]
  },
  {
   "cell_type": "markdown",
   "metadata": {},
   "source": [
    "### 2 \n",
    "#### split data"
   ]
  },
  {
   "cell_type": "code",
   "execution_count": 8,
   "metadata": {
    "collapsed": true
   },
   "outputs": [],
   "source": [
    "def split_data():\n",
    "    data_train = pd.read_csv('ex3_train.csv') #loading data\n",
    "    X_train = data_train.iloc[:,0:400] #X shape: (3500,400)\n",
    "    m = X_train.shape[0] #m = 3500\n",
    "    y_train = data_train.iloc[:,-1]\n",
    "    y_train_one_hot = one_hot_encoding(data_train) #one-hot-encoded y\n",
    "    \n",
    "    data_test = pd.read_csv('ex3_test.csv')\n",
    "    X_test = data_test.iloc[:,0:400]\n",
    "    y_test_one_hot = one_hot_encoding(data_test) #one_hot encoded y\n",
    "    y_test = data_test.iloc[:,-1]\n",
    "    \n",
    "    return X_train, y_train_one_hot,y_train, X_test, y_test_one_hot,y_test, m"
   ]
  },
  {
   "cell_type": "markdown",
   "metadata": {},
   "source": [
    "### 3\n",
    "#### initializing parameters"
   ]
  },
  {
   "cell_type": "code",
   "execution_count": 9,
   "metadata": {
    "collapsed": true
   },
   "outputs": [],
   "source": [
    "def initialize_variables(input_layer_size = 400, hidden_layer_size = 25 , output_layer_size = 10):    \n",
    "    np.random.seed(1)\n",
    "    W1 = 0.01 * np.random.randn(hidden_layer_size,input_layer_size)\n",
    "    b1 = np.zeros((hidden_layer_size,1))\n",
    "    W2 = 0.01 *(np.random.randn(output_layer_size, hidden_layer_size))\n",
    "    b2 = np.zeros((output_layer_size,1))\n",
    "    return W1, W2, b1, b2\n",
    "# shape : W1(25, 400)   W2(10, 25)   b1(25, 1)   b2(10, 1)"
   ]
  },
  {
   "cell_type": "markdown",
   "metadata": {},
   "source": [
    "### 4 \n",
    "#### neural network model with one hidden layer"
   ]
  },
  {
   "cell_type": "code",
   "execution_count": 10,
   "metadata": {
    "collapsed": true
   },
   "outputs": [],
   "source": [
    "#all in one function :\n",
    "def neural_network_model(X,y,m, precision, alpha, max_iteration = 10000 ):  \n",
    "    \n",
    "    costs = []\n",
    "    \n",
    "    W1, W2, b1, b2 = initialize_variables(input_layer_size= 400, hidden_layer_size= 25, output_layer_size= 10)\n",
    "    \n",
    "    old_cost = 0\n",
    "\n",
    "    iters = 0\n",
    "    iterations_graph = []\n",
    "    converge=False  \n",
    "    \n",
    "    while iters < max_iteration or not converge:       \n",
    "        #forward propagation for input layer and hidden layer\n",
    "        Z1, A1, Z2, A2 = forward_propagation(W1,W2,X,b1,b2)       \n",
    "        new_cost = (-1/m)* np.sum(np.multiply(y, np.log(A2.T) + np.multiply(1-y, np.log(1-A2.T)))) \n",
    "#         print (\"new_cost: \", new_cost)\n",
    "                \n",
    "        if abs(old_cost - new_cost)<= precision:\n",
    "            converge = True\n",
    "            print \"model converged\"\n",
    "            break\n",
    "        old_cost = new_cost\n",
    "        iters = iters + 1\n",
    "        costs.append(new_cost)\n",
    "        iterations_graph.append(iters)\n",
    "        if iters >= max_iteration :\n",
    "            print \"Exceeded maximum number of iterations\"\n",
    "            break \n",
    "                    \n",
    "        #backward propagation for both layers\n",
    "        dZ1, dZ2, dW1, dW2, db1, db2 = backward_propagation(m, A2,A1,W2, X, y)\n",
    "                \n",
    "        #updating weights using gradient\n",
    "        \n",
    "        W1, b1, W2, b2 = gradient_descent(W1, b1, db1, dW1, W2, b2, db2, dW2, alpha) \n",
    "        \n",
    "#         print (\"iterations : \" ,iters ) \n",
    "        \n",
    "    \n",
    "    return new_cost,costs, W1, W2, b1, b2 , A2, iterations_graph"
   ]
  },
  {
   "cell_type": "markdown",
   "metadata": {},
   "source": [
    "### Optimizations and Predictions\n"
   ]
  },
  {
   "cell_type": "code",
   "execution_count": 11,
   "metadata": {
    "collapsed": true
   },
   "outputs": [],
   "source": [
    "def accuracy(y_pred, y):\n",
    "    m = len(y)\n",
    "    matches =0 \n",
    "    acc = 0\n",
    "    for i in range(m):       \n",
    "        if( y_pred[i] == y[i] ):\n",
    "            matches +=1 \n",
    "            \n",
    "    acc = ((matches /m) * 100)\n",
    "    return (acc)"
   ]
  },
  {
   "cell_type": "code",
   "execution_count": 12,
   "metadata": {
    "collapsed": true
   },
   "outputs": [],
   "source": [
    "X_train, y_train_one_hot,y_train ,X_test, y_test_one_hot,y_test, m = split_data() #getting split data\n",
    "X = X_train\n",
    "y = y_train_one_hot"
   ]
  },
  {
   "cell_type": "markdown",
   "metadata": {},
   "source": [
    "#### training model when alpha = 0.001"
   ]
  },
  {
   "cell_type": "code",
   "execution_count": 13,
   "metadata": {},
   "outputs": [
    {
     "name": "stdout",
     "output_type": "stream",
     "text": [
      "Exceeded maximum number of iterations\n"
     ]
    }
   ],
   "source": [
    "precision = 0.000001\n",
    "alpha = 0.001\n",
    "new_cost1,costs1, W1_train, W2_train, b1_train, b2_train , A2_train,iters1 = neural_network_model(X,y,m, precision, alpha, max_iteration = 1000 )"
   ]
  },
  {
   "cell_type": "code",
   "execution_count": 14,
   "metadata": {},
   "outputs": [
    {
     "name": "stdout",
     "output_type": "stream",
     "text": [
      "accuracy when alpha 0.001=  26.9714285714\n"
     ]
    }
   ],
   "source": [
    "\"Predictions\"\n",
    "\n",
    "A2_soft = softmax(A2_train)        #  shape A2_soft(10, 3500)\n",
    "y_pred = np.argmax(A2_soft.T, axis = 1).reshape(A2_soft.T.shape[0],1)\n",
    "acc = accuracy(y_pred , y_train)\n",
    "print \"accuracy when alpha 0.001= \", acc"
   ]
  },
  {
   "cell_type": "markdown",
   "metadata": {},
   "source": [
    "#### testing model when alpha = 0.001"
   ]
  },
  {
   "cell_type": "code",
   "execution_count": 15,
   "metadata": {},
   "outputs": [
    {
     "name": "stdout",
     "output_type": "stream",
     "text": [
      "accuracy of test data when alpha 0.001=  26.1333333333\n"
     ]
    }
   ],
   "source": [
    "#forward propagation of testing model\n",
    "Z1_test, A1_test, Z2_test, A2_test = forward_propagation(W1_train,W2_train,X_test,b1_train,b2_train)\n",
    "A2_test_soft = softmax(A2_test) \n",
    "y_pred = np.argmax(A2_test_soft.T, axis = 1).reshape(A2_test_soft.T.shape[0],1)\n",
    "acc_test = accuracy(y_pred , y_test)\n",
    "print \"accuracy of test data when alpha 0.001= \", acc_test"
   ]
  },
  {
   "cell_type": "markdown",
   "metadata": {},
   "source": [
    "#### training model with alpha = 0.01"
   ]
  },
  {
   "cell_type": "code",
   "execution_count": 16,
   "metadata": {},
   "outputs": [
    {
     "name": "stdout",
     "output_type": "stream",
     "text": [
      "model converged\n"
     ]
    }
   ],
   "source": [
    "precision = 0.000001\n",
    "alpha = 0.01\n",
    "new_cost2,costs2, W1_train, W2_train, b1_train, b2_train , A2_train,iters2 = neural_network_model(X,y,m, precision, alpha, max_iteration = 1000 )"
   ]
  },
  {
   "cell_type": "code",
   "execution_count": 17,
   "metadata": {},
   "outputs": [
    {
     "name": "stdout",
     "output_type": "stream",
     "text": [
      "accuracy when alpha 0.001=  43.6285714286\n"
     ]
    }
   ],
   "source": [
    "\"Predictions\"\n",
    "\n",
    "A2_soft = softmax(A2_train)        #  shape A2_soft(10, 3500)\n",
    "y_pred = np.argmax(A2_soft.T, axis = 1).reshape(A2_soft.T.shape[0],1)\n",
    "acc = accuracy(y_pred , y_train)\n",
    "print \"accuracy when alpha 0.001= \", acc"
   ]
  },
  {
   "cell_type": "markdown",
   "metadata": {},
   "source": [
    "#### testing model with alpha = 0.01"
   ]
  },
  {
   "cell_type": "code",
   "execution_count": 18,
   "metadata": {},
   "outputs": [
    {
     "name": "stdout",
     "output_type": "stream",
     "text": [
      "accuracy of test data when alpha 0.001=  43.7333333333\n"
     ]
    }
   ],
   "source": [
    "#forward propagation of testing model\n",
    "Z1_test, A1_test, Z2_test, A2_test = forward_propagation(W1_train,W2_train,X_test,b1_train,b2_train)\n",
    "A2_test_soft = softmax(A2_test) \n",
    "y_pred = np.argmax(A2_test_soft.T, axis = 1).reshape(A2_test_soft.T.shape[0],1)\n",
    "acc_test = accuracy(y_pred , y_test)\n",
    "print \"accuracy of test data when alpha 0.001= \", acc_test"
   ]
  },
  {
   "cell_type": "markdown",
   "metadata": {},
   "source": [
    "#### training model when alpha = 0.1"
   ]
  },
  {
   "cell_type": "code",
   "execution_count": 19,
   "metadata": {},
   "outputs": [
    {
     "name": "stdout",
     "output_type": "stream",
     "text": [
      "Exceeded maximum number of iterations\n"
     ]
    }
   ],
   "source": [
    "precision = 0.000001\n",
    "alpha = 0.1\n",
    "new_cost3 , costs3, W1_train, W2_train, b1_train, b2_train , A2_train, iters3 = neural_network_model(X,y,m, precision, alpha, max_iteration = 1000 )"
   ]
  },
  {
   "cell_type": "code",
   "execution_count": 20,
   "metadata": {},
   "outputs": [
    {
     "name": "stdout",
     "output_type": "stream",
     "text": [
      "accuracy when alpha 0.1=  79.5428571429\n"
     ]
    }
   ],
   "source": [
    "A2_soft = softmax(A2_train)        #  shape A2_soft(10, 3500)\n",
    "y_pred = np.argmax(A2_soft.T, axis = 1).reshape(A2_soft.T.shape[0],1)\n",
    "acc = accuracy(y_pred , y_train)\n",
    "print \"accuracy when alpha 0.1= \", acc"
   ]
  },
  {
   "cell_type": "markdown",
   "metadata": {},
   "source": [
    "#### testing model when alpha = 0.1"
   ]
  },
  {
   "cell_type": "code",
   "execution_count": 21,
   "metadata": {},
   "outputs": [
    {
     "name": "stdout",
     "output_type": "stream",
     "text": [
      "accuracy of test data when alpha 0.1=  80.4\n"
     ]
    }
   ],
   "source": [
    "\"Prediction\"\n",
    "#forward propagation of testing model\n",
    "Z1_test, A1_test, Z2_test, A2_test = forward_propagation(W1_train,W2_train,X_test,b1_train,b2_train)\n",
    "\n",
    "A2_test_soft = softmax(A2_test)  #softmax\n",
    "y_pred = np.argmax(A2_test_soft.T, axis = 1).reshape(A2_test_soft.T.shape[0],1)\n",
    "acc_test = accuracy(y_pred , y_test)\n",
    "print \"accuracy of test data when alpha 0.1= \", acc_test"
   ]
  },
  {
   "cell_type": "markdown",
   "metadata": {},
   "source": [
    "#### training model when alpha = 1"
   ]
  },
  {
   "cell_type": "code",
   "execution_count": 22,
   "metadata": {},
   "outputs": [
    {
     "name": "stdout",
     "output_type": "stream",
     "text": [
      "Exceeded maximum number of iterations\n"
     ]
    }
   ],
   "source": [
    "precision = 0.000001\n",
    "alpha = 1\n",
    "new_cost4 ,costs4, W1_train, W2_train, b1_train, b2_train , A2_train,iters4 = neural_network_model(X,y,m, precision, alpha, max_iteration = 1000 )"
   ]
  },
  {
   "cell_type": "code",
   "execution_count": 23,
   "metadata": {},
   "outputs": [
    {
     "name": "stdout",
     "output_type": "stream",
     "text": [
      "accuracy when alpha 1=  96.3142857143\n"
     ]
    }
   ],
   "source": [
    "A2_soft = softmax(A2_train)        #  shape A2_soft(10, 3500)\n",
    "y_pred = np.argmax(A2_soft.T, axis = 1).reshape(A2_soft.T.shape[0],1)\n",
    "acc = accuracy(y_pred , y_train)\n",
    "print \"accuracy when alpha 1= \", acc"
   ]
  },
  {
   "cell_type": "markdown",
   "metadata": {},
   "source": [
    "#### testing model when alpha = 1"
   ]
  },
  {
   "cell_type": "code",
   "execution_count": 24,
   "metadata": {},
   "outputs": [
    {
     "name": "stdout",
     "output_type": "stream",
     "text": [
      "accuracy of test data when alpha 1=  92.3333333333\n"
     ]
    }
   ],
   "source": [
    "\"Predictions\"\n",
    "\n",
    "Z1_test, A1_test, Z2_test, A2_test = forward_propagation(W1_train,W2_train,X_test,b1_train,b2_train)\n",
    "\n",
    "A2_test_soft = softmax(A2_test)  #softmax\n",
    "y_pred = np.argmax(A2_test_soft.T, axis = 1).reshape(A2_test_soft.T.shape[0],1)\n",
    "acc_test = accuracy(y_pred , y_test)\n",
    "print \"accuracy of test data when alpha 1= \", acc_test"
   ]
  },
  {
   "cell_type": "markdown",
   "metadata": {},
   "source": [
    "#### training model when alpha = 1.5"
   ]
  },
  {
   "cell_type": "code",
   "execution_count": 25,
   "metadata": {},
   "outputs": [
    {
     "name": "stdout",
     "output_type": "stream",
     "text": [
      "Exceeded maximum number of iterations\n"
     ]
    }
   ],
   "source": [
    "precision = 0.000001\n",
    "alpha = 1.5\n",
    "new_cost5, costs5, W1_train, W2_train, b1_train, b2_train , A2_train, iters5 = neural_network_model(X,y,m, precision, alpha, max_iteration = 1000 )"
   ]
  },
  {
   "cell_type": "code",
   "execution_count": 26,
   "metadata": {},
   "outputs": [
    {
     "name": "stdout",
     "output_type": "stream",
     "text": [
      "accuracy when alpha 1.5 =  97.6857142857\n"
     ]
    }
   ],
   "source": [
    "\"Predictions\"\n",
    "\n",
    "A2_soft = softmax(A2_train)        #  shape A2_soft(10, 3500)\n",
    "y_pred = np.argmax(A2_soft.T, axis = 1).reshape(A2_soft.T.shape[0],1)\n",
    "acc = accuracy(y_pred , y_train)\n",
    "print \"accuracy when alpha 1.5 = \", acc"
   ]
  },
  {
   "cell_type": "markdown",
   "metadata": {},
   "source": [
    "#### testing model when alpha = 1.5"
   ]
  },
  {
   "cell_type": "code",
   "execution_count": 27,
   "metadata": {},
   "outputs": [
    {
     "name": "stdout",
     "output_type": "stream",
     "text": [
      "accuracy of test data when alpha 1.5 =  92.8\n"
     ]
    }
   ],
   "source": [
    "Z1_test, A1_test, Z2_test, A2_test = forward_propagation(W1_train,W2_train,X_test,b1_train,b2_train)\n",
    "A2_test_soft = softmax(A2_test) \n",
    "y_pred = np.argmax(A2_test_soft.T, axis = 1).reshape(A2_test_soft.T.shape[0],1)\n",
    "acc_best = accuracy(y_pred , y_test)\n",
    "print \"accuracy of test data when alpha 1.5 = \", acc_best"
   ]
  },
  {
   "cell_type": "markdown",
   "metadata": {},
   "source": [
    "#### training model when alpha = 2"
   ]
  },
  {
   "cell_type": "code",
   "execution_count": 28,
   "metadata": {},
   "outputs": [
    {
     "name": "stdout",
     "output_type": "stream",
     "text": [
      "Exceeded maximum number of iterations\n"
     ]
    }
   ],
   "source": [
    "precision = 0.000001\n",
    "alpha = 2.0\n",
    "new_cost6, costs6, W1_train, W2_train, b1_train, b2_train , A2_train, iters6 = neural_network_model(X,y,m, precision, alpha, max_iteration = 1000 )"
   ]
  },
  {
   "cell_type": "code",
   "execution_count": 29,
   "metadata": {},
   "outputs": [
    {
     "name": "stdout",
     "output_type": "stream",
     "text": [
      "accuracy when alpha 1.5 =  98.0285714286\n"
     ]
    }
   ],
   "source": [
    "A2_soft = softmax(A2_train)        #  shape A2_soft(10, 3500)\n",
    "y_pred = np.argmax(A2_soft.T, axis = 1).reshape(A2_soft.T.shape[0],1)\n",
    "acc = accuracy(y_pred , y_train)\n",
    "print \"accuracy when alpha 1.5 = \", acc"
   ]
  },
  {
   "cell_type": "markdown",
   "metadata": {},
   "source": [
    "#### testing model when alpha = 2"
   ]
  },
  {
   "cell_type": "code",
   "execution_count": 30,
   "metadata": {},
   "outputs": [
    {
     "name": "stdout",
     "output_type": "stream",
     "text": [
      "accuracy of test data when alpha 1.5 =  91.9333333333\n"
     ]
    }
   ],
   "source": [
    "\"Predictions\"\n",
    "\n",
    "Z1_test, A1_test, Z2_test, A2_test = forward_propagation(W1_train,W2_train,X_test,b1_train,b2_train)\n",
    "A2_test_soft = softmax(A2_test) \n",
    "y_pred = np.argmax(A2_test_soft.T, axis = 1).reshape(A2_test_soft.T.shape[0],1)\n",
    "acc_test = accuracy(y_pred , y_test)\n",
    "print \"accuracy of test data when alpha 1.5 = \", acc_test"
   ]
  },
  {
   "cell_type": "markdown",
   "metadata": {},
   "source": [
    "#### Plotting cost versus number of iteration with different learning rate for training data set"
   ]
  },
  {
   "cell_type": "code",
   "execution_count": 31,
   "metadata": {},
   "outputs": [
    {
     "data": {
      "image/png": "[encoded data removed]",
      "text/plain": [
       "<Figure size 432x288 with 1 Axes>"
      ]
     },
     "metadata": {},
     "output_type": "display_data"
    }
   ],
   "source": [
    "fig = plt.figure()\n",
    "\n",
    "ax = fig.add_subplot(111)\n",
    "\n",
    "ax.set_title(\"cost versus number of iterations with different learning rates for training data set\")\n",
    "\n",
    "ax.set_xlabel(\"iterations\")\n",
    "ax.set_ylabel(\"cost\")\n",
    "\n",
    "plt.plot(iters5, costs5, 'r', label='Learning rate=1.5')\n",
    "plt.plot(iters1, costs1, 'm', label='Learning rate=0.001')\n",
    "plt.plot(iters2, costs2, 'g', label='Learning rate=0.01')\n",
    "plt.plot(iters3, costs3, 'b', label='Learning rate=0.1')\n",
    "plt.plot(iters4, costs4, 'y', label='Learning rate=1')\n",
    "plt.plot(iters6, costs6, 'k', label='Learning rate=2')\n",
    "\n",
    "ax.legend()\n",
    "plt.show()"
   ]
  },
  {
   "cell_type": "code",
   "execution_count": 33,
   "metadata": {},
   "outputs": [
    {
     "name": "stdout",
     "output_type": "stream",
     "text": [
      "Best accuracy of test data when alpha 1.5 =  92.8 with number of iterations =  1000\n"
     ]
    }
   ],
   "source": [
    "print \"Best accuracy of test data when alpha 1.5 = \", acc_best, \"with number of iterations = \", len(iters5)"
   ]
  }
 ],
 "metadata": {
  "kernelspec": {
   "display_name": "Python 2",
   "language": "python",
   "name": "python2"
  },
  "language_info": {
   "codemirror_mode": {
    "name": "ipython",
    "version": 2
   },
   "file_extension": ".py",
   "mimetype": "text/x-python",
   "name": "python",
   "nbconvert_exporter": "python",
   "pygments_lexer": "ipython2",
   "version": "2.7.14"
  }
 },
 "nbformat": 4,
 "nbformat_minor": 2
}
